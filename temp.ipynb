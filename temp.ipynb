{
 "cells": [
  {
   "cell_type": "code",
   "execution_count": 1,
   "outputs": [
    {
     "name": "stdout",
     "output_type": "stream",
     "text": [
      "tf.Tensor(\n",
      "[[-0.07834458 -0.08115403 -0.0103028   0.01832303 -0.33299232]\n",
      " [ 0.05468381  0.02214921 -0.27454478 -0.06757024 -0.08186948]\n",
      " [-0.08695675  0.31371358 -0.05446488  0.16099833  0.2620947 ]\n",
      " [ 0.10625342 -0.30532357  0.01338917  0.01320605 -0.17113788]], shape=(4, 5), dtype=float32)\n",
      "\n",
      "\n",
      "lstm/lstm_cell/kernel:0 (10, 20) <dtype: 'float32'>\n",
      "lstm/lstm_cell/recurrent_kernel:0 (5, 20) <dtype: 'float32'>\n",
      "lstm/lstm_cell/bias:0 (20,) <dtype: 'float32'>\n"
     ]
    }
   ],
   "source": [
    "import tensorflow as tf\n",
    "from tensorflow.keras import layers\n",
    "\n",
    "# 状态向量是5维\n",
    "layer = layers.LSTM(5)\n",
    "# 4句话，每句话7个字，每个字的表示向量是10维的\n",
    "x = tf.random.normal([4, 7, 10])\n",
    "out = layer(x)\n",
    "print(out)\n",
    "print('\\n')\n",
    "\n",
    "for var in layer.trainable_variables:\n",
    "    print(var.name,var.shape,var.dtype)"
   ],
   "metadata": {
    "collapsed": false,
    "pycharm": {
     "name": "#%%\n"
    }
   }
  },
  {
   "cell_type": "code",
   "execution_count": 2,
   "outputs": [
    {
     "name": "stdout",
     "output_type": "stream",
     "text": [
      "tf.Tensor(\n",
      "[[ 0.01342524 -0.03180564  0.05031351  0.01574086  0.12032484]\n",
      " [-0.03389003  0.03127829  0.07479815  0.06893347  0.13489318]\n",
      " [-0.02699067  0.04662055  0.02154445  0.15134797 -0.03523358]\n",
      " [-0.09501531  0.12560178  0.1094329   0.14707239  0.08788656]], shape=(4, 5), dtype=float32)\n",
      "lstm_1/lstm_cell_1/kernel:0 (10, 20) <dtype: 'float32'>\n",
      "lstm_1/lstm_cell_1/recurrent_kernel:0 (5, 20) <dtype: 'float32'>\n",
      "lstm_1/lstm_cell_1/bias:0 (20,) <dtype: 'float32'>\n",
      "lstm_2/lstm_cell_2/kernel:0 (5, 20) <dtype: 'float32'>\n",
      "lstm_2/lstm_cell_2/recurrent_kernel:0 (5, 20) <dtype: 'float32'>\n",
      "lstm_2/lstm_cell_2/bias:0 (20,) <dtype: 'float32'>\n"
     ]
    }
   ],
   "source": [
    "import tensorflow as tf\n",
    "from tensorflow.keras import layers,Sequential\n",
    "\n",
    "net = Sequential([ # 构建 2 层 RNN 网络\n",
    "# 除最末层外，都需要返回所有时间戳的输出，用作下一层的输入\n",
    "layers.LSTM(5, return_sequences=True),\n",
    "layers.LSTM(5),\n",
    "])\n",
    "# 4句话，每句话7个字，每个字的表示向量是10维的\n",
    "x = tf.random.normal([4, 7, 10])\n",
    "out = net(x)\n",
    "print(out)\n",
    "for var in net.trainable_variables:\n",
    "    print(var.name,var.shape,var.dtype)"
   ],
   "metadata": {
    "collapsed": false,
    "pycharm": {
     "name": "#%%\n"
    }
   }
  },
  {
   "cell_type": "code",
   "execution_count": 2,
   "outputs": [],
   "source": [],
   "metadata": {
    "collapsed": false,
    "pycharm": {
     "name": "#%%\n"
    }
   }
  }
 ],
 "metadata": {
  "kernelspec": {
   "display_name": "Python 3",
   "language": "python",
   "name": "python3"
  },
  "language_info": {
   "codemirror_mode": {
    "name": "ipython",
    "version": 2
   },
   "file_extension": ".py",
   "mimetype": "text/x-python",
   "name": "python",
   "nbconvert_exporter": "python",
   "pygments_lexer": "ipython2",
   "version": "2.7.6"
  }
 },
 "nbformat": 4,
 "nbformat_minor": 0
}