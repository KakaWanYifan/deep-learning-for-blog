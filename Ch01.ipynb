{
 "cells": [
  {
   "cell_type": "code",
   "execution_count": null,
   "metadata": {
    "collapsed": true
   },
   "outputs": [],
   "source": [
    "# 损失函数\n",
    "def loss(b,w,points):\n",
    "    '''\n",
    "    损失函数\n",
    "    :param b: 偏置\n",
    "    :param w: 权重\n",
    "    :param points: 数据点\n",
    "    :return: 损失\n",
    "    '''\n",
    "    # 损失值\n",
    "    total_loss = 0\n",
    "    for i in range(0,len(points)):\n",
    "        x = points[i,0]\n",
    "        y = points[i,1]\n",
    "        total_loss = total_loss + (y - (w * x + b)) ** 2\n",
    "\n",
    "    return total_loss/(float(len(points)))"
   ]
  },
  {
   "cell_type": "code",
   "execution_count": null,
   "outputs": [],
   "source": [
    "# 一步，梯度\n",
    "def step_gradient(b_cur,w_cur,points,lr):\n",
    "    '''\n",
    "    一步，梯度\n",
    "    :param b_cur: 当前的偏置\n",
    "    :param w_cur: 当前的权重\n",
    "    :param points: 数据点\n",
    "    :param lr: 学习率\n",
    "    :return: 梯度后的偏置和权重\n",
    "    '''\n",
    "    b_gradient = 0\n",
    "    w_gradient = 0\n",
    "    n = float(len(points))\n",
    "    for i in range(0,len(points)):\n",
    "        x = points[i,0]\n",
    "        y = points[i,1]\n",
    "        w_gradient = w_gradient + (2/n) * ((w_cur * x + b_cur) - y) * x\n",
    "        b_gradient = b_gradient + (2/n) * ((w_cur * x + b_cur) - y)\n",
    "    b_new = b_cur - (lr * b_gradient)\n",
    "    w_new = w_cur - (lr * w_gradient)\n",
    "\n",
    "    return b_new,w_new\n"
   ],
   "metadata": {
    "collapsed": false,
    "pycharm": {
     "name": "#%%\n"
    }
   }
  },
  {
   "cell_type": "code",
   "execution_count": null,
   "outputs": [],
   "source": [
    "import numpy as np\n",
    "\n",
    "# 迭代更新\n",
    "def gradient_descent(points,b_start,w_start,lr,iterations):\n",
    "    '''\n",
    "    迭代更新\n",
    "    :param points: 数据点\n",
    "    :param b_start: 偏置的初始值\n",
    "    :param w_start: 权重的初始值\n",
    "    :param lr: 学习率\n",
    "    :param iterations: 最大迭代次数\n",
    "    :return:\n",
    "    '''\n",
    "    b = b_start\n",
    "    w = w_start\n",
    "    for i in range(iterations):\n",
    "        b,w = step_gradient(b_cur=b,w_cur=w,points=np.array(points),lr=lr)\n",
    "    return b,w"
   ],
   "metadata": {
    "collapsed": false,
    "pycharm": {
     "name": "#%%\n"
    }
   }
  }
 ],
 "metadata": {
  "kernelspec": {
   "display_name": "Python 3",
   "language": "python",
   "name": "python3"
  },
  "language_info": {
   "codemirror_mode": {
    "name": "ipython",
    "version": 2
   },
   "file_extension": ".py",
   "mimetype": "text/x-python",
   "name": "python",
   "nbconvert_exporter": "python",
   "pygments_lexer": "ipython2",
   "version": "2.7.6"
  }
 },
 "nbformat": 4,
 "nbformat_minor": 0
}