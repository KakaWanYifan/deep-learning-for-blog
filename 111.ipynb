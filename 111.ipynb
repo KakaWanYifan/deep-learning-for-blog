{
 "cells": [
  {
   "cell_type": "code",
   "execution_count": 39,
   "metadata": {
    "collapsed": true,
    "pycharm": {
     "name": "#%%\n"
    }
   },
   "outputs": [
    {
     "name": "stdout",
     "output_type": "stream",
     "text": [
      "kernel:0 (10, 20) <dtype: 'float32'>\n",
      "kernel:0 (10, 5) <dtype: 'float32'>\n",
      "\n",
      "\n",
      "recurrent_kernel:0 (5, 20) <dtype: 'float32'>\n",
      "recurrent_kernel:0 (5, 5) <dtype: 'float32'>\n",
      "\n",
      "\n",
      "bias:0 (20,) <dtype: 'float32'>\n",
      "bias:0 (5,) <dtype: 'float32'>\n",
      "\n",
      "\n"
     ]
    }
   ],
   "source": [
    "from tensorflow.keras import layers\n",
    "\n",
    "# 5 的意思是经过神经元后，维度转化为5维\n",
    "# [b, 10] -> [b, 5]，b是句子数量\n",
    "lstmcell = layers.LSTMCell(5)\n",
    "rnncell = layers.SimpleRNNCell(5)\n",
    "# 10 的意思是每个汉字的表示向量的维度是10\n",
    "lstmcell.build(input_shape=(None,10))\n",
    "rnncell.build(input_shape=(None,10))\n",
    "\n",
    "for var in zip(lstmcell.trainable_variables,rnncell.trainable_variables):\n",
    "    print(var[0].name,var[0].shape,var[0].dtype)\n",
    "    print(var[1].name,var[1].shape,var[1].dtype)\n",
    "    print('\\n')"
   ]
  },
  {
   "cell_type": "code",
   "execution_count": 40,
   "outputs": [
    {
     "name": "stdout",
     "output_type": "stream",
     "text": [
      "(4, 5) (4, 5) (4, 5)\n",
      "140528429663152 140528429663152 140528531128160\n"
     ]
    }
   ],
   "source": [
    "import tensorflow as tf\n",
    "\n",
    "# 4个句子，且根据之前的设定，输出的维度是5维\n",
    "# 4个句子并行进行前向计算\n",
    "state0 = [tf.zeros([4, 5]),tf.zeros([4, 5])]\n",
    "# 4个句子，每个句子7个字，每个字的表示向量维度是10维\n",
    "x = tf.random.normal([4, 7, 10])\n",
    "# 取每个句子的第一个字\n",
    "xt = x[:,0,:]\n",
    "# 前向计算\n",
    "out, state1 = lstmcell(xt, state0)\n",
    "print(out.shape, state1[0].shape,state1[1].shape)\n",
    "print(id(out),id(state1[0]),id(state1[1]))"
   ],
   "metadata": {
    "collapsed": false,
    "pycharm": {
     "name": "#%%\n"
    }
   }
  },
  {
   "cell_type": "code",
   "execution_count": 41,
   "outputs": [
    {
     "name": "stdout",
     "output_type": "stream",
     "text": [
      "(4, 5) (4, 5) (4, 5)\n",
      "(4, 5) (4, 5) (4, 5)\n",
      "(4, 5) (4, 5) (4, 5)\n",
      "(4, 5) (4, 5) (4, 5)\n",
      "(4, 5) (4, 5) (4, 5)\n",
      "(4, 5) (4, 5) (4, 5)\n",
      "(4, 5) (4, 5) (4, 5)\n"
     ]
    }
   ],
   "source": [
    "state = state0\n",
    "# 在序列长度维度上解开，循环送入 LSTM Cell 单元\n",
    "for xt in tf.unstack(x, axis=1):\n",
    "    # 前向计算\n",
    "    out, state = lstmcell(xt, state)\n",
    "    print(out.shape,state[0].shape,state[1].shape)\n"
   ],
   "metadata": {
    "collapsed": false,
    "pycharm": {
     "name": "#%%\n"
    }
   }
  },
  {
   "cell_type": "code",
   "execution_count": 43,
   "outputs": [
    {
     "name": "stdout",
     "output_type": "stream",
     "text": [
      "tf.Tensor(\n",
      "[[ 0.16966146  0.06215458  0.10828499 -0.17451651 -0.05830569]\n",
      " [-0.1442592  -0.02235897  0.14862593 -0.0923435   0.08713431]\n",
      " [ 0.04074397  0.1693563  -0.14727356  0.26403514 -0.22405092]\n",
      " [ 0.25786686  0.11899053  0.09351197  0.05225572 -0.09171846]], shape=(4, 5), dtype=float32)\n",
      "\n",
      "\n",
      "lstm_1/lstm_cell_23/kernel:0 (10, 20) <dtype: 'float32'>\n",
      "lstm_1/lstm_cell_23/recurrent_kernel:0 (5, 20) <dtype: 'float32'>\n",
      "lstm_1/lstm_cell_23/bias:0 (20,) <dtype: 'float32'>\n"
     ]
    }
   ],
   "source": [
    "import tensorflow as tf\n",
    "from tensorflow.keras import layers\n",
    "\n",
    "# 状态向量是5维\n",
    "layer = layers.LSTM(5)\n",
    "# 4句话，每句话7个字，每个字的表示向量是10维的\n",
    "x = tf.random.normal([4, 7, 10])\n",
    "out = layer(x)\n",
    "print(out)\n",
    "print('\\n')\n",
    "\n",
    "for var in layer.trainable_variables:\n",
    "    print(var.name,var.shape,var.dtype)\n"
   ],
   "metadata": {
    "collapsed": false,
    "pycharm": {
     "name": "#%%\n"
    }
   }
  }
 ],
 "metadata": {
  "kernelspec": {
   "display_name": "Python 3",
   "language": "python",
   "name": "python3"
  },
  "language_info": {
   "codemirror_mode": {
    "name": "ipython",
    "version": 2
   },
   "file_extension": ".py",
   "mimetype": "text/x-python",
   "name": "python",
   "nbconvert_exporter": "python",
   "pygments_lexer": "ipython2",
   "version": "2.7.6"
  }
 },
 "nbformat": 4,
 "nbformat_minor": 0
}